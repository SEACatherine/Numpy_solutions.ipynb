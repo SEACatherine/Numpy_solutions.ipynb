{
  "nbformat": 4,
  "nbformat_minor": 0,
  "metadata": {
    "colab": {
      "provenance": []
    },
    "kernelspec": {
      "name": "python3",
      "display_name": "Python 3"
    },
    "language_info": {
      "name": "python"
    }
  },
  "cells": [
    {
      "cell_type": "code",
      "execution_count": null,
      "metadata": {
        "colab": {
          "base_uri": "https://localhost:8080/"
        },
        "id": "2fcWdg1oABRU",
        "outputId": "2a18cf4a-59cc-4a4b-9060-f4b9d3de651f"
      },
      "outputs": [
        {
          "output_type": "stream",
          "name": "stdout",
          "text": [
            "Hi\n"
          ]
        }
      ],
      "source": [
        "print('Hi')"
      ]
    },
    {
      "cell_type": "code",
      "source": [
        "#a.Импортируйте библиотеку NumPy\n",
        "import numpy as np"
      ],
      "metadata": {
        "id": "3purM-L2AzDG"
      },
      "execution_count": null,
      "outputs": []
    },
    {
      "cell_type": "code",
      "source": [
        "#b.Создайте массив из 10 нулей\n",
        "a=np.zeros(10)\n",
        "print(a)"
      ],
      "metadata": {
        "colab": {
          "base_uri": "https://localhost:8080/"
        },
        "id": "Cr8hDCN7Bmjg",
        "outputId": "c4d9b4cf-a194-4e6d-9f13-5d1aa751c131"
      },
      "execution_count": null,
      "outputs": [
        {
          "output_type": "stream",
          "name": "stdout",
          "text": [
            "[0. 0. 0. 0. 0. 0. 0. 0. 0. 0.]\n"
          ]
        }
      ]
    },
    {
      "cell_type": "code",
      "source": [
        "#c.Создайте массив из 10 единиц\n",
        "a=np.ones(10)\n",
        "print(a)"
      ],
      "metadata": {
        "colab": {
          "base_uri": "https://localhost:8080/"
        },
        "id": "pLg54KDtDYRh",
        "outputId": "1cf46467-db54-40d4-db35-d8cc90049947"
      },
      "execution_count": null,
      "outputs": [
        {
          "output_type": "stream",
          "name": "stdout",
          "text": [
            "[1. 1. 1. 1. 1. 1. 1. 1. 1. 1.]\n"
          ]
        }
      ]
    },
    {
      "cell_type": "code",
      "source": [
        "#d.Создайте массив из 10 пятерок\n",
        "a=np.ones(10)*5\n",
        "print(a)"
      ],
      "metadata": {
        "colab": {
          "base_uri": "https://localhost:8080/"
        },
        "id": "Hyhr-14LEyFJ",
        "outputId": "cb820ac0-bbeb-4352-c63b-0176dff4c3d4"
      },
      "execution_count": null,
      "outputs": [
        {
          "output_type": "stream",
          "name": "stdout",
          "text": [
            "[5. 5. 5. 5. 5. 5. 5. 5. 5. 5.]\n"
          ]
        }
      ]
    },
    {
      "cell_type": "code",
      "source": [
        "#e.Создайте массив из целых чисел от 10 до 50\n",
        "a=np.arange(10,51)\n",
        "print(a)"
      ],
      "metadata": {
        "colab": {
          "base_uri": "https://localhost:8080/"
        },
        "id": "FrUgrRoFFnoA",
        "outputId": "0f6f9c18-26d5-4634-d182-278df90b4b9b"
      },
      "execution_count": null,
      "outputs": [
        {
          "output_type": "stream",
          "name": "stdout",
          "text": [
            "[10 11 12 13 14 15 16 17 18 19 20 21 22 23 24 25 26 27 28 29 30 31 32 33\n",
            " 34 35 36 37 38 39 40 41 42 43 44 45 46 47 48 49 50]\n"
          ]
        }
      ]
    },
    {
      "cell_type": "code",
      "source": [
        "#f.Создайте массив из четных чисел от 10 до 50\n",
        "a=np.arange(10,51,2)\n",
        "print(a)"
      ],
      "metadata": {
        "colab": {
          "base_uri": "https://localhost:8080/"
        },
        "id": "abpnUwWmRpMM",
        "outputId": "c00a7840-1df4-4715-8c44-3f4ff5d6ea7f"
      },
      "execution_count": null,
      "outputs": [
        {
          "output_type": "stream",
          "name": "stdout",
          "text": [
            "[10 12 14 16 18 20 22 24 26 28 30 32 34 36 38 40 42 44 46 48 50]\n"
          ]
        }
      ]
    },
    {
      "cell_type": "code",
      "source": [
        "#g.Создайте матрицу 3х3 с числами от 0 до 8\n",
        "a=np.arange(9).reshape(3,3)\n",
        "print(a)"
      ],
      "metadata": {
        "colab": {
          "base_uri": "https://localhost:8080/"
        },
        "id": "c_tevHyjLXv7",
        "outputId": "aa4a760c-fec9-4bfe-fae3-cebe01e09426"
      },
      "execution_count": null,
      "outputs": [
        {
          "output_type": "stream",
          "name": "stdout",
          "text": [
            "[[0 1 2]\n",
            " [3 4 5]\n",
            " [6 7 8]]\n"
          ]
        }
      ]
    },
    {
      "cell_type": "code",
      "source": [
        "#h.Создайте единичную матрицу 3x3\n",
        "a=np.eye(3)\n",
        "print(a)\n"
      ],
      "metadata": {
        "colab": {
          "base_uri": "https://localhost:8080/"
        },
        "id": "12IT7uwORksu",
        "outputId": "dd95d890-a0ca-4878-910d-0a244c1b6cc0"
      },
      "execution_count": null,
      "outputs": [
        {
          "output_type": "stream",
          "name": "stdout",
          "text": [
            "[[1. 0. 0.]\n",
            " [0. 1. 0.]\n",
            " [0. 0. 1.]]\n"
          ]
        }
      ]
    },
    {
      "cell_type": "code",
      "source": [
        "#i.Используйте NumPy для генерации случайного числа от 0 до 1\n",
        "a=np.random.rand()\n",
        "print(a)"
      ],
      "metadata": {
        "colab": {
          "base_uri": "https://localhost:8080/"
        },
        "id": "5LOELYMpTNBU",
        "outputId": "bd587d05-7461-4a9a-da35-0b0d5a119f16"
      },
      "execution_count": null,
      "outputs": [
        {
          "output_type": "stream",
          "name": "stdout",
          "text": [
            "0.9634262105338199\n"
          ]
        }
      ]
    },
    {
      "cell_type": "code",
      "source": [
        "#j.Используйте NumPy для генерации массива из 25 случайных чисел, взятых из стандартного нормального распределения\n",
        "a=np.random.rand(25)\n",
        "print(a)"
      ],
      "metadata": {
        "colab": {
          "base_uri": "https://localhost:8080/"
        },
        "id": "Dz6ksQpdXXfR",
        "outputId": "98396e3e-1297-436c-c1d9-c79609427a08"
      },
      "execution_count": null,
      "outputs": [
        {
          "output_type": "stream",
          "name": "stdout",
          "text": [
            "[0.71209348 0.02375201 0.67384816 0.7957991  0.56954292 0.43652584\n",
            " 0.13362967 0.70350075 0.47089738 0.22030413 0.24323843 0.17698319\n",
            " 0.33030595 0.32652606 0.14409628 0.49912059 0.68636276 0.1731722\n",
            " 0.29722564 0.90874137 0.13398999 0.55691974 0.05603453 0.75642282\n",
            " 0.84157504]\n"
          ]
        }
      ]
    },
    {
      "cell_type": "code",
      "source": [
        "#k.Создайте следующую матрицу, используя функции библиотеки NumPy:\n",
        "a=np.arange(0.01, 1.01, 0.01).reshape(10, 10)\n",
        "print(a)"
      ],
      "metadata": {
        "colab": {
          "base_uri": "https://localhost:8080/"
        },
        "id": "ORYVu_PwYtKB",
        "outputId": "154f87c6-4136-4c00-ad73-80c7aae659e9"
      },
      "execution_count": null,
      "outputs": [
        {
          "output_type": "stream",
          "name": "stdout",
          "text": [
            "[[0.01 0.02 0.03 0.04 0.05 0.06 0.07 0.08 0.09 0.1 ]\n",
            " [0.11 0.12 0.13 0.14 0.15 0.16 0.17 0.18 0.19 0.2 ]\n",
            " [0.21 0.22 0.23 0.24 0.25 0.26 0.27 0.28 0.29 0.3 ]\n",
            " [0.31 0.32 0.33 0.34 0.35 0.36 0.37 0.38 0.39 0.4 ]\n",
            " [0.41 0.42 0.43 0.44 0.45 0.46 0.47 0.48 0.49 0.5 ]\n",
            " [0.51 0.52 0.53 0.54 0.55 0.56 0.57 0.58 0.59 0.6 ]\n",
            " [0.61 0.62 0.63 0.64 0.65 0.66 0.67 0.68 0.69 0.7 ]\n",
            " [0.71 0.72 0.73 0.74 0.75 0.76 0.77 0.78 0.79 0.8 ]\n",
            " [0.81 0.82 0.83 0.84 0.85 0.86 0.87 0.88 0.89 0.9 ]\n",
            " [0.91 0.92 0.93 0.94 0.95 0.96 0.97 0.98 0.99 1.  ]]\n"
          ]
        }
      ]
    },
    {
      "cell_type": "code",
      "source": [
        "#Дана стартовая матрица\n",
        "mat=np.arange(1,26).reshape(5,5)\n",
        "mat"
      ],
      "metadata": {
        "colab": {
          "base_uri": "https://localhost:8080/"
        },
        "id": "G8ZOJvkJuPz0",
        "outputId": "86e91d95-4807-4e51-dcf8-d64aa13d0360"
      },
      "execution_count": null,
      "outputs": [
        {
          "output_type": "execute_result",
          "data": {
            "text/plain": [
              "array([[ 1,  2,  3,  4,  5],\n",
              "       [ 6,  7,  8,  9, 10],\n",
              "       [11, 12, 13, 14, 15],\n",
              "       [16, 17, 18, 19, 20],\n",
              "       [21, 22, 23, 24, 25]])"
            ]
          },
          "metadata": {},
          "execution_count": 55
        }
      ]
    },
    {
      "cell_type": "code",
      "source": [
        "#l.Необходимо написать код который вернет следующую матрицу из стартовой:\n",
        "mat=np.arange(1,26).reshape(5,5)\n",
        "mat[2:5, 1:5]"
      ],
      "metadata": {
        "colab": {
          "base_uri": "https://localhost:8080/"
        },
        "id": "7mw72MyDvY-N",
        "outputId": "e1319bcb-fba3-4952-c381-771ee21f66e1"
      },
      "execution_count": null,
      "outputs": [
        {
          "output_type": "execute_result",
          "data": {
            "text/plain": [
              "array([[12, 13, 14, 15],\n",
              "       [17, 18, 19, 20],\n",
              "       [22, 23, 24, 25]])"
            ]
          },
          "metadata": {},
          "execution_count": 56
        }
      ]
    },
    {
      "cell_type": "code",
      "source": [
        "#m.Напишите код обращения к элементу который вернет значение 20 из стартовой матрицы задачи l (1 вариант)\n",
        "mat=np.arange(1,26).reshape(5,5)\n",
        "mat[3][4]"
      ],
      "metadata": {
        "colab": {
          "base_uri": "https://localhost:8080/"
        },
        "id": "72oSqpG_7hjo",
        "outputId": "d5f6a49d-f325-4d61-b5cc-331319bb5d6f"
      },
      "execution_count": null,
      "outputs": [
        {
          "output_type": "execute_result",
          "data": {
            "text/plain": [
              "20"
            ]
          },
          "metadata": {},
          "execution_count": 57
        }
      ]
    },
    {
      "cell_type": "code",
      "source": [
        "#m.Напишите код обращения к элементу который вернет значение 20 из стартовой матрицы задачи l (2 вариант)\n",
        "dv=mat[mat==20]\n",
        "print(dv)"
      ],
      "metadata": {
        "colab": {
          "base_uri": "https://localhost:8080/"
        },
        "id": "xmll-xNclcSp",
        "outputId": "2bcdd7dc-f0f2-4ece-c98f-f650d14f7e02"
      },
      "execution_count": null,
      "outputs": [
        {
          "output_type": "stream",
          "name": "stdout",
          "text": [
            "[20]\n"
          ]
        }
      ]
    },
    {
      "cell_type": "code",
      "source": [
        "#n.Напишите код к стартовой матрице задачи l , который воспроизводит вывод, показанный ниже\n",
        "mat=np.arange(1,26).reshape(5,5)\n",
        "mat[0:3, 1:2]"
      ],
      "metadata": {
        "colab": {
          "base_uri": "https://localhost:8080/"
        },
        "id": "e-GC0cCM8WPg",
        "outputId": "528d6e57-d0f0-42e4-e3a6-d5997ee8baf9"
      },
      "execution_count": null,
      "outputs": [
        {
          "output_type": "execute_result",
          "data": {
            "text/plain": [
              "array([[ 2],\n",
              "       [ 7],\n",
              "       [12]])"
            ]
          },
          "metadata": {},
          "execution_count": 59
        }
      ]
    },
    {
      "cell_type": "code",
      "source": [
        "#o.Напишите код к стартовой матрице задачи l , который воспроизводит вывод, показанный ниже\n",
        "mat=np.arange(1,26).reshape(5,5)\n",
        "mat[4, :]"
      ],
      "metadata": {
        "colab": {
          "base_uri": "https://localhost:8080/"
        },
        "id": "GO1CjlBX9NHh",
        "outputId": "e165334f-2723-427e-e348-7b88e7074609"
      },
      "execution_count": null,
      "outputs": [
        {
          "output_type": "execute_result",
          "data": {
            "text/plain": [
              "array([21, 22, 23, 24, 25])"
            ]
          },
          "metadata": {},
          "execution_count": 60
        }
      ]
    },
    {
      "cell_type": "code",
      "source": [
        "#p.Напишите код к стартовой матрице задачи l , который воспроизводит вывод, показанный ниже \n",
        "mat=np.arange(1,26).reshape(5,5)\n",
        "mat[3:5, :]"
      ],
      "metadata": {
        "colab": {
          "base_uri": "https://localhost:8080/"
        },
        "id": "G-dKE-Q_-Al5",
        "outputId": "5c46ce52-9026-4bea-8095-fad7546f31ae"
      },
      "execution_count": null,
      "outputs": [
        {
          "output_type": "execute_result",
          "data": {
            "text/plain": [
              "array([[16, 17, 18, 19, 20],\n",
              "       [21, 22, 23, 24, 25]])"
            ]
          },
          "metadata": {},
          "execution_count": 61
        }
      ]
    },
    {
      "cell_type": "code",
      "source": [
        "#q.Получите сумму всех значений в стартовой матрице mat\n",
        "mat=np.arange(1,26).reshape(5,5)\n",
        "print(mat.sum())"
      ],
      "metadata": {
        "colab": {
          "base_uri": "https://localhost:8080/"
        },
        "id": "6iKLIDek-fVA",
        "outputId": "c72ac3c1-ad17-4d01-ac17-30cea3214bce"
      },
      "execution_count": null,
      "outputs": [
        {
          "output_type": "stream",
          "name": "stdout",
          "text": [
            "325\n"
          ]
        }
      ]
    },
    {
      "cell_type": "code",
      "source": [
        "#r.Получите стандартное отклонение в стартовой матрице mat\n",
        "mat=np.arange(1,26).reshape(5,5)\n",
        "print(mat.std())"
      ],
      "metadata": {
        "colab": {
          "base_uri": "https://localhost:8080/"
        },
        "id": "5mhHzE5VCGBU",
        "outputId": "4b43af02-1703-433c-83b0-640cb3ce1d13"
      },
      "execution_count": null,
      "outputs": [
        {
          "output_type": "stream",
          "name": "stdout",
          "text": [
            "7.211102550927978\n"
          ]
        }
      ]
    },
    {
      "cell_type": "code",
      "source": [
        "#s.Получить сумму значений в колонках в стартовой матрице mat\n",
        "mat=np.arange(1,26).reshape(5,5)\n",
        "print(mat)\n",
        "print('__________________')\n",
        "print(mat.sum(axis=0))"
      ],
      "metadata": {
        "colab": {
          "base_uri": "https://localhost:8080/"
        },
        "id": "fs3VgCQJCwD5",
        "outputId": "14041eec-afa5-4f17-a473-c6afa0926469"
      },
      "execution_count": null,
      "outputs": [
        {
          "output_type": "stream",
          "name": "stdout",
          "text": [
            "[[ 1  2  3  4  5]\n",
            " [ 6  7  8  9 10]\n",
            " [11 12 13 14 15]\n",
            " [16 17 18 19 20]\n",
            " [21 22 23 24 25]]\n",
            "__________________\n",
            "[55 60 65 70 75]\n"
          ]
        }
      ]
    }
  ]
}